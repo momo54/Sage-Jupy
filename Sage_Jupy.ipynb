{
  "nbformat": 4,
  "nbformat_minor": 0,
  "metadata": {
    "colab": {
      "name": "Sage-Jupy",
      "provenance": [],
      "collapsed_sections": [],
      "authorship_tag": "ABX9TyNb1AE8rQ8fPGz0JOnyaI0M",
      "include_colab_link": true
    },
    "kernelspec": {
      "name": "python3",
      "display_name": "Python 3"
    }
  },
  "cells": [
    {
      "cell_type": "markdown",
      "metadata": {
        "id": "view-in-github",
        "colab_type": "text"
      },
      "source": [
        "<a href=\"https://colab.research.google.com/github/momo54/Sage-Jupy/blob/main/Sage_Jupy.ipynb\" target=\"_parent\"><img src=\"https://colab.research.google.com/assets/colab-badge.svg\" alt=\"Open In Colab\"/></a>"
      ]
    },
    {
      "cell_type": "markdown",
      "metadata": {
        "id": "a20DWAV9TW46"
      },
      "source": [
        "# Running [SaGe](https://sage.univ-nantes.fr) in a Jupyter Notebook\n",
        "\n",
        "Sage is a SPARQL query engine for public Linked Data providers that implements Web preemption. The SPARQL engine includes a smart Sage client and a Sage SPARQL query server hosting RDF datasets (hosted using PostgreSQL or HDT). SPARQL queries are suspended by the web server after a fixed quantum of time and resumed upon client request. Using Web preemption, Sage ensures stable response times for query execution and completeness of results under high load.\n",
        "\n",
        "The complete approach and experimental results are available in a Research paper accepted at The Web Conference 2019, available here. Thomas Minier, Hala Skaf-Molli and Pascal Molli. \"SaGe: Web Preemption for Public SPARQL Query services\" in Proceedings of the 2019 World Wide Web Conference (WWW'19), San Francisco, USA, May 13-17, 2019.\n",
        "\n",
        "We appreciate your feedback/comments/questions to be sent to our mailing list or our issue tracker on [github](https://github.com/sage-org)."
      ]
    },
    {
      "cell_type": "markdown",
      "metadata": {
        "id": "1GibuoDtTnsC"
      },
      "source": [
        "## Installation\n",
        "\n",
        "We install SaGe just with the HDT backend. There are other backend to store and update data, but not supported directly in Jupyter Notebook."
      ]
    },
    {
      "cell_type": "code",
      "metadata": {
        "colab": {
          "base_uri": "https://localhost:8080/"
        },
        "id": "fZ352p9F2jri",
        "outputId": "cc063df4-e125-4586-e3e3-b0b9c72cc85a"
      },
      "source": [
        "!pip install sage-engine\n",
        "!pip install pybind11\n",
        "!pip install hdt\n"
      ],
      "execution_count": null,
      "outputs": [
        {
          "output_type": "stream",
          "text": [
            "Requirement already satisfied: sage-engine in /usr/local/lib/python3.7/dist-packages (2.3.0)\n",
            "Requirement already satisfied: uvicorn==0.13.4 in /usr/local/lib/python3.7/dist-packages (from sage-engine) (0.13.4)\n",
            "Requirement already satisfied: rdflib==5.0.0 in /usr/local/lib/python3.7/dist-packages (from sage-engine) (5.0.0)\n",
            "Requirement already satisfied: pylru<2.0,>=1.0 in /usr/local/lib/python3.7/dist-packages (from sage-engine) (1.2.0)\n",
            "Requirement already satisfied: grpcio<2.0,>=1.36 in /usr/local/lib/python3.7/dist-packages (from sage-engine) (1.38.0)\n",
            "Requirement already satisfied: click==7.1.2 in /usr/local/lib/python3.7/dist-packages (from sage-engine) (7.1.2)\n",
            "Requirement already satisfied: protobuf==3.15.7 in /usr/local/lib/python3.7/dist-packages (from sage-engine) (3.15.7)\n",
            "Requirement already satisfied: fastapi==0.63.0 in /usr/local/lib/python3.7/dist-packages (from sage-engine) (0.63.0)\n",
            "Requirement already satisfied: uvloop==0.15.2 in /usr/local/lib/python3.7/dist-packages (from sage-engine) (0.15.2)\n",
            "Requirement already satisfied: coloredlogs==15.0 in /usr/local/lib/python3.7/dist-packages (from sage-engine) (15.0)\n",
            "Requirement already satisfied: PyYAML==5.4.1 in /usr/local/lib/python3.7/dist-packages (from sage-engine) (5.4.1)\n",
            "Requirement already satisfied: rdflib-jsonld==0.5.0 in /usr/local/lib/python3.7/dist-packages (from sage-engine) (0.5.0)\n",
            "Requirement already satisfied: typing-extensions; python_version < \"3.8\" in /usr/local/lib/python3.7/dist-packages (from uvicorn==0.13.4->sage-engine) (3.7.4.3)\n",
            "Requirement already satisfied: h11>=0.8 in /usr/local/lib/python3.7/dist-packages (from uvicorn==0.13.4->sage-engine) (0.12.0)\n",
            "Requirement already satisfied: six in /usr/local/lib/python3.7/dist-packages (from rdflib==5.0.0->sage-engine) (1.15.0)\n",
            "Requirement already satisfied: pyparsing in /usr/local/lib/python3.7/dist-packages (from rdflib==5.0.0->sage-engine) (2.4.7)\n",
            "Requirement already satisfied: isodate in /usr/local/lib/python3.7/dist-packages (from rdflib==5.0.0->sage-engine) (0.6.0)\n",
            "Requirement already satisfied: pydantic<2.0.0,>=1.0.0 in /usr/local/lib/python3.7/dist-packages (from fastapi==0.63.0->sage-engine) (1.8.2)\n",
            "Requirement already satisfied: starlette==0.13.6 in /usr/local/lib/python3.7/dist-packages (from fastapi==0.63.0->sage-engine) (0.13.6)\n",
            "Requirement already satisfied: humanfriendly>=9.1 in /usr/local/lib/python3.7/dist-packages (from coloredlogs==15.0->sage-engine) (9.1)\n",
            "Requirement already satisfied: pybind11 in /usr/local/lib/python3.7/dist-packages (2.2.4)\n",
            "Requirement already satisfied: hdt in /usr/local/lib/python3.7/dist-packages (2.3)\n",
            "Requirement already satisfied: pybind11==2.2.4 in /usr/local/lib/python3.7/dist-packages (from hdt) (2.2.4)\n"
          ],
          "name": "stdout"
        }
      ]
    },
    {
      "cell_type": "markdown",
      "metadata": {
        "id": "0Wn_QCavT0AX"
      },
      "source": [
        "## Configuration\n",
        "\n"
      ]
    },
    {
      "cell_type": "markdown",
      "metadata": {
        "id": "-F9BXjJa71AC"
      },
      "source": [
        "We need a dataset and to configure the server to use this dataset.\n",
        "\n",
        "\n",
        "*   config.yaml is a simple configuration file for SaGe\n",
        "\n",
        "\n",
        "1.   Quantum is fixed to 75ms \n",
        "2.   max_results=2000\n",
        "\n",
        "\n",
        "*   swdf.hdt is the 'semantic web dog foord ' dataset in the HDT format. SaGe can use HDT file, or PostGres Backend or a SQLlite backend... HDT is nice when running in a Jupyter Netbooks.\n",
        "\n",
        "\n"
      ]
    },
    {
      "cell_type": "code",
      "metadata": {
        "colab": {
          "base_uri": "https://localhost:8080/"
        },
        "id": "xmowqyylh4kT",
        "outputId": "797aafc8-da36-4f4b-8e1a-b6fe4079bcad"
      },
      "source": [
        "!wget http://gaia.infor.uva.es/hdt/swdf-2012-11-28.hdt.gz\n",
        "!gunzip -f swdf-2012-11-28.hdt.gz\n",
        "## just a config.yaml.\n",
        "!wget -q \"https://raw.githubusercontent.com/momo54/Sage-Jupy/main/config.yaml\" -O config.yaml\n",
        "!cat config.yaml"
      ],
      "execution_count": null,
      "outputs": [
        {
          "output_type": "stream",
          "text": [
            "--2021-06-06 07:36:12--  http://gaia.infor.uva.es/hdt/swdf-2012-11-28.hdt.gz\n",
            "Resolving gaia.infor.uva.es (gaia.infor.uva.es)... 157.88.123.104\n",
            "Connecting to gaia.infor.uva.es (gaia.infor.uva.es)|157.88.123.104|:80... connected.\n",
            "HTTP request sent, awaiting response... 200 OK\n",
            "Length: 2403825 (2.3M) [application/x-gzip]\n",
            "Saving to: ‘swdf-2012-11-28.hdt.gz’\n",
            "\n",
            "swdf-2012-11-28.hdt 100%[===================>]   2.29M  2.85MB/s    in 0.8s    \n",
            "\n",
            "2021-06-06 07:36:14 (2.85 MB/s) - ‘swdf-2012-11-28.hdt.gz’ saved [2403825/2403825]\n",
            "\n",
            "name: SaGe Test server\n",
            "maintainer: Chuck Norris\n",
            "quota: 75\n",
            "max_results: 2000\n",
            "default_graph_uri: http://localhost:8000/sparql/part\n",
            "graphs:\n",
            "-\n",
            "  name: swdf\n",
            "  uri: http://example.org/swdf\n",
            "  description: Semantic Web Dog Food in HDT\n",
            "  backend: hdt-file\n",
            "  file: swdf-2012-11-28.hdt\n",
            "-\n",
            "  name: swdfsq\n",
            "  uri: http://example.org/swdf-sq\n",
            "  description: Semantic Web Dog Food in SQlite\n",
            "  backend: sqlite\n",
            "  database: data-sq.db\n"
          ],
          "name": "stdout"
        }
      ]
    },
    {
      "cell_type": "markdown",
      "metadata": {
        "id": "521LLJh0UhiK"
      },
      "source": [
        "## Starting the server\n",
        "\n",
        "The SaGe server is started with 2 workers, a quantum of 75ms and maxpage size of 2000 results"
      ]
    },
    {
      "cell_type": "code",
      "metadata": {
        "colab": {
          "base_uri": "https://localhost:8080/"
        },
        "id": "D6GG0STh-eqS",
        "outputId": "0053980b-05c6-4ebd-d1ff-74f661a1d067"
      },
      "source": [
        "%%bash --bg --out script_out\n",
        "sage config.yaml -p 8000 -w 2 -h \"0.0.0.0\" > server_out"
      ],
      "execution_count": null,
      "outputs": [
        {
          "output_type": "stream",
          "text": [
            "Starting job # 0 in a separate thread.\n"
          ],
          "name": "stdout"
        }
      ]
    },
    {
      "cell_type": "code",
      "metadata": {
        "id": "Maj46K9Knurr"
      },
      "source": [
        "## print server output\n",
        "!tail server_out"
      ],
      "execution_count": null,
      "outputs": []
    },
    {
      "cell_type": "markdown",
      "metadata": {
        "id": "rnu7coTdmoYt"
      },
      "source": [
        "Test if the SaGe Server is running. You should see \"\"The SaGe SPARQL query server is running!\"\n",
        "\n",
        "---\n",
        "\n"
      ]
    },
    {
      "cell_type": "code",
      "metadata": {
        "colab": {
          "base_uri": "https://localhost:8080/"
        },
        "id": "aUKX2cCo_P91",
        "outputId": "30462aff-7912-4136-ba67-16c88fffb078"
      },
      "source": [
        "## just testing the server is running...\n",
        "!curl http://0.0.0.0:8000"
      ],
      "execution_count": null,
      "outputs": [
        {
          "output_type": "stream",
          "text": [
            "\"The SaGe SPARQL query server is running!\""
          ],
          "name": "stdout"
        }
      ]
    },
    {
      "cell_type": "markdown",
      "metadata": {
        "id": "JgC4kRQRUpeV"
      },
      "source": [
        "## Running queries\n",
        "\n",
        "As a web server, SaGe can be queryied in any language. \n",
        "Below, we show how to do that in Python (as we are in Jupyter Notebook). We also provide a JS client and Java client.\n",
        "\n",
        "Just Call the SaGe server for only one quantum. The server interupt the query after a quantum exhausted or the max results reached."
      ]
    },
    {
      "cell_type": "code",
      "metadata": {
        "id": "vErANUp6F6Jh",
        "colab": {
          "base_uri": "https://localhost:8080/"
        },
        "outputId": "a414f5ec-7a02-4d34-d0cf-3d040dc7805a"
      },
      "source": [
        "import requests\n",
        "from json import dumps     \n",
        "\n",
        "###\n",
        "query='select * where {?s a ?o . ?o a ?s}'\n",
        "####\n",
        "\n",
        "entrypoint='http://0.0.0.0:8000/sparql'\n",
        "default_graph_uri='http://example.org/swdf'\n",
        "headers = {\"accept\": \"text/html\",\n",
        "        \"content-type\": \"application/json\",\n",
        "        \"next\": None}\n",
        "payload = {\"query\": query,\n",
        "        \"defaultGraph\": default_graph_uri}\n",
        "has_next = True                                                                                                                                         \n",
        "count = 0                                                                                                                                               \n",
        "nbResults = 0                                                                                                                                           \n",
        "nbCalls = 0  \n",
        "limit = 10\n",
        "\n",
        "## call the server\n",
        "response = requests.post(entrypoint, headers=headers, data=dumps(payload))\n",
        "\n",
        "## the results\n",
        "json_response = response.json() \n",
        "nbResults += len(json_response['bindings'])\n",
        "print(f'got:{nbResults}')\n",
        "\n",
        "## print some results\n",
        "for bindings in json_response['bindings']:\n",
        "    print(str(bindings))\n",
        "    count += 1\n",
        "    if count >= limit:\n",
        "      break\n",
        "\n",
        "## the link to continue the execution\n",
        "has_next = json_response['next']                                                                                                                    \n",
        "payload[\"next\"] = json_response[\"next\"]\n",
        "nbCalls += 1\n",
        "\n",
        "print(f'and the next link is {json_response[\"next\"]}')"
      ],
      "execution_count": null,
      "outputs": [
        {
          "output_type": "stream",
          "text": [
            "got:0\n",
            "and the next link is EucEGuQECvcBClIKAj9vEi9odHRwOi8vd3d3LnczLm9yZy8xOTk5LzAyLzIyLXJkZi1zeW50YXgtbnMjdHlwZRoCP3MiF2h0dHA6Ly9leGFtcGxlLm9yZy9zd2RmGkkKAj9vEkNodHRwOi8vZGF0YS5zZW1hbnRpY3dlYi5vcmcvY29uZmVyZW5jZS9scmVjLzIwMDgvcGFwZXJzLzIyOS9hdXRob3JzGjQKAj9zEi5odHRwOi8vd3d3LnczLm9yZy8xOTk5LzAyLzIyLXJkZi1zeW50YXgtbnMjU2VxIgQ0Njk2KhoyMDIxLTA2LTA2VDA3OjM2OjE0LjkyOTkzMTLtAQpSCgI/cxIvaHR0cDovL3d3dy53My5vcmcvMTk5OS8wMi8yMi1yZGYtc3ludGF4LW5zI3R5cGUaAj9vIhdodHRwOi8vZXhhbXBsZS5vcmcvc3dkZhI1CgI/cxIvaHR0cDovL3N3cmMub250b3dhcmUub3JnL29udG9sb2d5I0luUHJvY2VlZGluZ3MSQQoCP28SO2h0dHA6Ly9kYXRhLnNlbWFudGljd2ViLm9yZy9jb25mZXJlbmNlL2xyZWMvMjAwOC9wYXBlcnMvMjI5IgEwKhoyMDIxLTA2LTA2VDA3OjM2OjE0LjkyOTkzMVpBCgI/bxI7aHR0cDovL2RhdGEuc2VtYW50aWN3ZWIub3JnL2NvbmZlcmVuY2UvbHJlYy8yMDA4L3BhcGVycy8yMjlaNQoCP3MSL2h0dHA6Ly9zd3JjLm9udG93YXJlLm9yZy9vbnRvbG9neSNJblByb2NlZWRpbmdz\n"
          ],
          "name": "stdout"
        }
      ]
    },
    {
      "cell_type": "markdown",
      "metadata": {
        "id": "0ivwJg3_A4KS"
      },
      "source": [
        "## Inspecting the Next Link\n",
        "\n",
        "We can decode the value of the next link\n",
        "As you can see. The next link contain the state of the suspended query"
      ]
    },
    {
      "cell_type": "code",
      "metadata": {
        "colab": {
          "base_uri": "https://localhost:8080/"
        },
        "id": "9RlWApj_-r03",
        "outputId": "e05980f3-945b-434a-bdff-752e53476666"
      },
      "source": [
        "from sage.http_server.utils import decode_saved_plan, encode_saved_plan\n",
        "from sage.query_engine.protobuf.iterators_pb2 import (RootTree,SavedProjectionIterator,SavedScanIterator)\n",
        "next_link=json_response[\"next\"]\n",
        "print(f'the next link {next_link} contains')\n",
        "if next_link is not None:\n",
        "  saved_plan = next_link\n",
        "  plan = decode_saved_plan(saved_plan)\n",
        "  root = RootTree()\n",
        "  root.ParseFromString(plan)\n",
        "  print(root)"
      ],
      "execution_count": null,
      "outputs": [
        {
          "output_type": "stream",
          "text": [
            "the next link EucEGuQECvcBClIKAj9vEi9odHRwOi8vd3d3LnczLm9yZy8xOTk5LzAyLzIyLXJkZi1zeW50YXgtbnMjdHlwZRoCP3MiF2h0dHA6Ly9leGFtcGxlLm9yZy9zd2RmGkkKAj9vEkNodHRwOi8vZGF0YS5zZW1hbnRpY3dlYi5vcmcvY29uZmVyZW5jZS9scmVjLzIwMDgvcGFwZXJzLzIyOS9hdXRob3JzGjQKAj9zEi5odHRwOi8vd3d3LnczLm9yZy8xOTk5LzAyLzIyLXJkZi1zeW50YXgtbnMjU2VxIgQ0Njk2KhoyMDIxLTA2LTA2VDA3OjM2OjE0LjkyOTkzMTLtAQpSCgI/cxIvaHR0cDovL3d3dy53My5vcmcvMTk5OS8wMi8yMi1yZGYtc3ludGF4LW5zI3R5cGUaAj9vIhdodHRwOi8vZXhhbXBsZS5vcmcvc3dkZhI1CgI/cxIvaHR0cDovL3N3cmMub250b3dhcmUub3JnL29udG9sb2d5I0luUHJvY2VlZGluZ3MSQQoCP28SO2h0dHA6Ly9kYXRhLnNlbWFudGljd2ViLm9yZy9jb25mZXJlbmNlL2xyZWMvMjAwOC9wYXBlcnMvMjI5IgEwKhoyMDIxLTA2LTA2VDA3OjM2OjE0LjkyOTkzMVpBCgI/bxI7aHR0cDovL2RhdGEuc2VtYW50aWN3ZWIub3JnL2NvbmZlcmVuY2UvbHJlYy8yMDA4L3BhcGVycy8yMjlaNQoCP3MSL2h0dHA6Ly9zd3JjLm9udG93YXJlLm9yZy9vbnRvbG9neSNJblByb2NlZWRpbmdz contains\n",
            "proj_source {\n",
            "  join_source {\n",
            "    scan_left {\n",
            "      pattern {\n",
            "        subject: \"?o\"\n",
            "        predicate: \"http://www.w3.org/1999/02/22-rdf-syntax-ns#type\"\n",
            "        object: \"?s\"\n",
            "        graph: \"http://example.org/swdf\"\n",
            "      }\n",
            "      mu {\n",
            "        key: \"?o\"\n",
            "        value: \"http://data.semanticweb.org/conference/lrec/2008/papers/229/authors\"\n",
            "      }\n",
            "      mu {\n",
            "        key: \"?s\"\n",
            "        value: \"http://www.w3.org/1999/02/22-rdf-syntax-ns#Seq\"\n",
            "      }\n",
            "      last_read: \"4696\"\n",
            "      timestamp: \"2021-06-06T07:36:14.929931\"\n",
            "    }\n",
            "    scan_right {\n",
            "      pattern {\n",
            "        subject: \"?s\"\n",
            "        predicate: \"http://www.w3.org/1999/02/22-rdf-syntax-ns#type\"\n",
            "        object: \"?o\"\n",
            "        graph: \"http://example.org/swdf\"\n",
            "      }\n",
            "      muc {\n",
            "        key: \"?o\"\n",
            "        value: \"http://data.semanticweb.org/conference/lrec/2008/papers/229\"\n",
            "      }\n",
            "      muc {\n",
            "        key: \"?s\"\n",
            "        value: \"http://swrc.ontoware.org/ontology#InProceedings\"\n",
            "      }\n",
            "      last_read: \"0\"\n",
            "      timestamp: \"2021-06-06T07:36:14.929931\"\n",
            "    }\n",
            "    muc {\n",
            "      key: \"?o\"\n",
            "      value: \"http://data.semanticweb.org/conference/lrec/2008/papers/229\"\n",
            "    }\n",
            "    muc {\n",
            "      key: \"?s\"\n",
            "      value: \"http://swrc.ontoware.org/ontology#InProceedings\"\n",
            "    }\n",
            "  }\n",
            "}\n",
            "\n"
          ],
          "name": "stdout"
        }
      ]
    },
    {
      "cell_type": "markdown",
      "metadata": {
        "id": "XVHIHznefAO5"
      },
      "source": [
        "Sending the next link back to server allow to restart the query from where it has been stopped. Basically, it works as next/next/next until no more results are available..."
      ]
    },
    {
      "cell_type": "code",
      "metadata": {
        "id": "NGjSXh5he5kx"
      },
      "source": [
        "if has_next :\n",
        "  response = requests.post(entrypoint, headers=headers, data=dumps(payload))\n",
        "  json_response = response.json()                                                                                                                     \n",
        "  has_next = json_response['next']                                                                                                                    \n",
        "  payload[\"next\"] = json_response[\"next\"]\n",
        "  nbResults += len(json_response['bindings'])\n",
        "  nbCalls += 1\n",
        "  count=0\n",
        "  for bindings in json_response['bindings']:\n",
        "    print(str(bindings))\n",
        "    count += 1\n",
        "    if count >= limit:\n",
        "      break\n"
      ],
      "execution_count": null,
      "outputs": []
    },
    {
      "cell_type": "markdown",
      "metadata": {
        "id": "6K9mLhkhBI6_"
      },
      "source": [
        "If we decode the next link again, we can see that scan progressed (compare 'last_read' fields)"
      ]
    },
    {
      "cell_type": "code",
      "metadata": {
        "id": "dYxtATPKBMlY",
        "colab": {
          "base_uri": "https://localhost:8080/"
        },
        "outputId": "b6c1e6b2-db46-4a29-cde7-984ff4615383"
      },
      "source": [
        "from sage.http_server.utils import decode_saved_plan, encode_saved_plan\n",
        "from sage.query_engine.protobuf.iterators_pb2 import (RootTree,SavedProjectionIterator,SavedScanIterator)\n",
        "next_link=json_response[\"next\"]\n",
        "print(f'the next link {next_link} contains')\n",
        "if next_link is not None:\n",
        "  saved_plan = next_link\n",
        "  plan = decode_saved_plan(saved_plan)\n",
        "  root = RootTree()\n",
        "  root.ParseFromString(plan)\n",
        "  print(root)"
      ],
      "execution_count": null,
      "outputs": [
        {
          "output_type": "stream",
          "text": [
            "the next link ErEFGq4FCocCClIKAj9vEi9odHRwOi8vd3d3LnczLm9yZy8xOTk5LzAyLzIyLXJkZi1zeW50YXgtbnMjdHlwZRoCP3MiF2h0dHA6Ly9leGFtcGxlLm9yZy9zd2RmGmEKAj9vEltodHRwOi8vZGF0YS5zZW1hbnRpY3dlYi5vcmcvb3JnYW5pemF0aW9uL2NudHMtbGFuZ3VhZ2UtdGVjaG5vbG9neS1ncm91cC11bml2ZXJzaXR5LW9mLWFudHdlGiwKAj9zEiZodHRwOi8veG1sbnMuY29tL2ZvYWYvMC4xL09yZ2FuaXphdGlvbiIEOTM0NyoaMjAyMS0wNi0wNlQwNzozNjoxNC45Mjk5MzEyigIKUgoCP3MSL2h0dHA6Ly93d3cudzMub3JnLzE5OTkvMDIvMjItcmRmLXN5bnRheC1ucyN0eXBlGgI/byIXaHR0cDovL2V4YW1wbGUub3JnL3N3ZGYSLAoCP3MSJmh0dHA6Ly94bWxucy5jb20vZm9hZi8wLjEvT3JnYW5pemF0aW9uEmcKAj9vEmFodHRwOi8vZGF0YS5zZW1hbnRpY3dlYi5vcmcvb3JnYW5pemF0aW9uL2NucnMtcHBzLXVtci03MTI2LXVuaXYtcGFyaXMtZGlkZXJvdC1zb3Jib25uZS1wYXJpcy1jaXRlIgEwKhoyMDIxLTA2LTA2VDA3OjM2OjE0LjkyOTkzMVpnCgI/bxJhaHR0cDovL2RhdGEuc2VtYW50aWN3ZWIub3JnL29yZ2FuaXphdGlvbi9jbnJzLXBwcy11bXItNzEyNi11bml2LXBhcmlzLWRpZGVyb3Qtc29yYm9ubmUtcGFyaXMtY2l0ZVosCgI/cxImaHR0cDovL3htbG5zLmNvbS9mb2FmLzAuMS9Pcmdhbml6YXRpb24= contains\n",
            "proj_source {\n",
            "  join_source {\n",
            "    scan_left {\n",
            "      pattern {\n",
            "        subject: \"?o\"\n",
            "        predicate: \"http://www.w3.org/1999/02/22-rdf-syntax-ns#type\"\n",
            "        object: \"?s\"\n",
            "        graph: \"http://example.org/swdf\"\n",
            "      }\n",
            "      mu {\n",
            "        key: \"?o\"\n",
            "        value: \"http://data.semanticweb.org/organization/cnts-language-technology-group-university-of-antwe\"\n",
            "      }\n",
            "      mu {\n",
            "        key: \"?s\"\n",
            "        value: \"http://xmlns.com/foaf/0.1/Organization\"\n",
            "      }\n",
            "      last_read: \"9347\"\n",
            "      timestamp: \"2021-06-06T07:36:14.929931\"\n",
            "    }\n",
            "    scan_right {\n",
            "      pattern {\n",
            "        subject: \"?s\"\n",
            "        predicate: \"http://www.w3.org/1999/02/22-rdf-syntax-ns#type\"\n",
            "        object: \"?o\"\n",
            "        graph: \"http://example.org/swdf\"\n",
            "      }\n",
            "      muc {\n",
            "        key: \"?o\"\n",
            "        value: \"http://data.semanticweb.org/organization/cnrs-pps-umr-7126-univ-paris-diderot-sorbonne-paris-cite\"\n",
            "      }\n",
            "      muc {\n",
            "        key: \"?s\"\n",
            "        value: \"http://xmlns.com/foaf/0.1/Organization\"\n",
            "      }\n",
            "      last_read: \"0\"\n",
            "      timestamp: \"2021-06-06T07:36:14.929931\"\n",
            "    }\n",
            "    muc {\n",
            "      key: \"?o\"\n",
            "      value: \"http://data.semanticweb.org/organization/cnrs-pps-umr-7126-univ-paris-diderot-sorbonne-paris-cite\"\n",
            "    }\n",
            "    muc {\n",
            "      key: \"?s\"\n",
            "      value: \"http://xmlns.com/foaf/0.1/Organization\"\n",
            "    }\n",
            "  }\n",
            "}\n",
            "\n"
          ],
          "name": "stdout"
        }
      ]
    },
    {
      "cell_type": "markdown",
      "metadata": {
        "id": "XQQPtqJ33nAG"
      },
      "source": [
        "Well, now we iterate until the end"
      ]
    },
    {
      "cell_type": "code",
      "metadata": {
        "id": "8NwnAC5e3rP_",
        "colab": {
          "base_uri": "https://localhost:8080/"
        },
        "outputId": "49ee881b-9fbc-4321-c47d-ee7d9fe799f3"
      },
      "source": [
        "while has_next :\n",
        "  response = requests.post(entrypoint, headers=headers, data=dumps(payload))\n",
        "  json_response = response.json()                                                                                                                     \n",
        "  has_next = json_response['next']                                                                                                                    \n",
        "  payload[\"next\"] = json_response[\"next\"]\n",
        "  nbResults += len(json_response['bindings'])\n",
        "  nbCalls += 1\n",
        "\n",
        "## print some bindings...\n",
        "count=0\n",
        "for bindings in json_response['bindings']:\n",
        "  print(str(bindings))\n",
        "  count += 1\n",
        "  if count >= limit:\n",
        "    break\n",
        "\n",
        "print(f'got {nbResults} results')\n",
        "print(f'made {nbCalls} calls')"
      ],
      "execution_count": null,
      "outputs": [
        {
          "output_type": "stream",
          "text": [
            "got 0 results\n",
            "made 5 calls\n"
          ],
          "name": "stdout"
        }
      ]
    }
  ]
}