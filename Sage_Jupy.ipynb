{
  "nbformat": 4,
  "nbformat_minor": 0,
  "metadata": {
    "colab": {
      "name": "Sage-Jupy",
      "provenance": [],
      "collapsed_sections": [],
      "authorship_tag": "ABX9TyMPMpsNPbixaco/m8wWZk0a",
      "include_colab_link": true
    },
    "kernelspec": {
      "name": "python3",
      "display_name": "Python 3"
    }
  },
  "cells": [
    {
      "cell_type": "markdown",
      "metadata": {
        "id": "view-in-github",
        "colab_type": "text"
      },
      "source": [
        "<a href=\"https://colab.research.google.com/github/momo54/Sage-Jupy/blob/main/Sage_Jupy.ipynb\" target=\"_parent\"><img src=\"https://colab.research.google.com/assets/colab-badge.svg\" alt=\"Open In Colab\"/></a>"
      ]
    },
    {
      "cell_type": "markdown",
      "metadata": {
        "id": "a20DWAV9TW46"
      },
      "source": [
        "# Running SaGe in a Jupyter Notebook\n",
        "\n",
        "Sage is a SPARQL query engine for public Linked Data providers that implements Web preemption. The SPARQL engine includes a smart Sage client and a Sage SPARQL query server hosting RDF datasets (hosted using PostgreSQL or HDT). SPARQL queries are suspended by the web server after a fixed quantum of time and resumed upon client request. Using Web preemption, Sage ensures stable response times for query execution and completeness of results under high load.\n",
        "\n",
        "The complete approach and experimental results are available in a Research paper accepted at The Web Conference 2019, available here. Thomas Minier, Hala Skaf-Molli and Pascal Molli. \"SaGe: Web Preemption for Public SPARQL Query services\" in Proceedings of the 2019 World Wide Web Conference (WWW'19), San Francisco, USA, May 13-17, 2019.\n",
        "\n",
        "We appreciate your feedback/comments/questions to be sent to our mailing list or our issue tracker on github."
      ]
    },
    {
      "cell_type": "markdown",
      "metadata": {
        "id": "1GibuoDtTnsC"
      },
      "source": [
        "## Installation\n",
        "\n",
        "We install SaGe just with the HDT backend. There are other backend to store and update data, but not supported directly in Jupyter Notebook."
      ]
    },
    {
      "cell_type": "code",
      "metadata": {
        "id": "95EFOu12kzh6",
        "colab": {
          "base_uri": "https://localhost:8080/"
        },
        "outputId": "b0c0439f-649e-4011-d323-0752044c5292"
      },
      "source": [
        "!python --version"
      ],
      "execution_count": null,
      "outputs": [
        {
          "output_type": "stream",
          "text": [
            "Python 3.7.10\n"
          ],
          "name": "stdout"
        }
      ]
    },
    {
      "cell_type": "code",
      "metadata": {
        "colab": {
          "base_uri": "https://localhost:8080/"
        },
        "id": "fZ352p9F2jri",
        "outputId": "f501aff2-e707-4a65-8d43-12461bd5d7cb"
      },
      "source": [
        "!pip install sage-engine\n",
        "!pip install pybind11\n",
        "!pip install hdt\n"
      ],
      "execution_count": null,
      "outputs": [
        {
          "output_type": "stream",
          "text": [
            "Requirement already satisfied: sage-engine in /usr/local/lib/python3.7/dist-packages (2.3.0)\n",
            "Requirement already satisfied: grpcio<2.0,>=1.36 in /usr/local/lib/python3.7/dist-packages (from sage-engine) (1.37.0)\n",
            "Requirement already satisfied: pylru<2.0,>=1.0 in /usr/local/lib/python3.7/dist-packages (from sage-engine) (1.2.0)\n",
            "Requirement already satisfied: rdflib-jsonld==0.5.0 in /usr/local/lib/python3.7/dist-packages (from sage-engine) (0.5.0)\n",
            "Requirement already satisfied: click==7.1.2 in /usr/local/lib/python3.7/dist-packages (from sage-engine) (7.1.2)\n",
            "Requirement already satisfied: uvicorn==0.13.4 in /usr/local/lib/python3.7/dist-packages (from sage-engine) (0.13.4)\n",
            "Requirement already satisfied: PyYAML==5.4.1 in /usr/local/lib/python3.7/dist-packages (from sage-engine) (5.4.1)\n",
            "Requirement already satisfied: rdflib==5.0.0 in /usr/local/lib/python3.7/dist-packages (from sage-engine) (5.0.0)\n",
            "Requirement already satisfied: coloredlogs==15.0 in /usr/local/lib/python3.7/dist-packages (from sage-engine) (15.0)\n",
            "Requirement already satisfied: uvloop==0.15.2 in /usr/local/lib/python3.7/dist-packages (from sage-engine) (0.15.2)\n",
            "Requirement already satisfied: protobuf==3.15.7 in /usr/local/lib/python3.7/dist-packages (from sage-engine) (3.15.7)\n",
            "Requirement already satisfied: fastapi==0.63.0 in /usr/local/lib/python3.7/dist-packages (from sage-engine) (0.63.0)\n",
            "Requirement already satisfied: six>=1.5.2 in /usr/local/lib/python3.7/dist-packages (from grpcio<2.0,>=1.36->sage-engine) (1.15.0)\n",
            "Requirement already satisfied: h11>=0.8 in /usr/local/lib/python3.7/dist-packages (from uvicorn==0.13.4->sage-engine) (0.12.0)\n",
            "Requirement already satisfied: typing-extensions; python_version < \"3.8\" in /usr/local/lib/python3.7/dist-packages (from uvicorn==0.13.4->sage-engine) (3.7.4.3)\n",
            "Requirement already satisfied: isodate in /usr/local/lib/python3.7/dist-packages (from rdflib==5.0.0->sage-engine) (0.6.0)\n",
            "Requirement already satisfied: pyparsing in /usr/local/lib/python3.7/dist-packages (from rdflib==5.0.0->sage-engine) (2.4.7)\n",
            "Requirement already satisfied: humanfriendly>=9.1 in /usr/local/lib/python3.7/dist-packages (from coloredlogs==15.0->sage-engine) (9.1)\n",
            "Requirement already satisfied: starlette==0.13.6 in /usr/local/lib/python3.7/dist-packages (from fastapi==0.63.0->sage-engine) (0.13.6)\n",
            "Requirement already satisfied: pydantic<2.0.0,>=1.0.0 in /usr/local/lib/python3.7/dist-packages (from fastapi==0.63.0->sage-engine) (1.8.1)\n",
            "Requirement already satisfied: pybind11 in /usr/local/lib/python3.7/dist-packages (2.6.2)\n",
            "Collecting hdt\n",
            "  Using cached https://files.pythonhosted.org/packages/51/82/41f1e4a131881da64a1ab2c4675dd93020a1a7109be08a2eb790cb6b92c6/hdt-2.3.tar.gz\n",
            "Collecting pybind11==2.2.4\n",
            "  Using cached https://files.pythonhosted.org/packages/f2/7c/e71995e59e108799800cb0fce6c4b4927914d7eada0723dd20bae3b51786/pybind11-2.2.4-py2.py3-none-any.whl\n",
            "Building wheels for collected packages: hdt\n",
            "  Building wheel for hdt (setup.py) ... \u001b[?25l\u001b[?25hdone\n",
            "  Created wheel for hdt: filename=hdt-2.3-cp37-cp37m-linux_x86_64.whl size=5268840 sha256=9752e9098d221cd504e2c81878c2dabdea1e286d7453a087fb5cef805d2a0f1e\n",
            "  Stored in directory: /root/.cache/pip/wheels/c6/64/28/ee2f54a78b64368f3e633637a0707549ba7a6e1c30079d966b\n",
            "Successfully built hdt\n",
            "Installing collected packages: pybind11, hdt\n",
            "  Found existing installation: pybind11 2.6.2\n",
            "    Uninstalling pybind11-2.6.2:\n",
            "      Successfully uninstalled pybind11-2.6.2\n",
            "Successfully installed hdt-2.3 pybind11-2.2.4\n"
          ],
          "name": "stdout"
        }
      ]
    },
    {
      "cell_type": "markdown",
      "metadata": {
        "id": "0Wn_QCavT0AX"
      },
      "source": [
        "## Configuration\n",
        "\n"
      ]
    },
    {
      "cell_type": "markdown",
      "metadata": {
        "id": "-F9BXjJa71AC"
      },
      "source": [
        "We need a dataset and to configure the server to use this dataset.\n",
        "\n",
        "\n",
        "*   config.yaml is a simple configuration file for SaGe\n",
        "\n",
        "\n",
        "1.   Quantum is fixed to 75ms \n",
        "2.   max_results=2000\n",
        "\n",
        "\n",
        "*   swdf.hdt is the 'semantic web dog foord ' dataset in the HDT format. SaGe can use HDT file, or PostGres Backend or a SQLlite backend... HDT is nice when running in a Jupyter Netbooks.\n",
        "\n",
        "\n"
      ]
    },
    {
      "cell_type": "code",
      "metadata": {
        "colab": {
          "base_uri": "https://localhost:8080/"
        },
        "id": "xmowqyylh4kT",
        "outputId": "64fb046c-b955-4a8c-bf28-841694244b87"
      },
      "source": [
        "!wget http://gaia.infor.uva.es/hdt/swdf-2012-11-28.hdt.gz\n",
        "!gunzip -f swdf-2012-11-28.hdt.gz\n",
        "## just a config.yaml on my gdrive.\n",
        "!wget -q \"https://drive.google.com/uc?id=1wrg-vO8DNe5Cf7WWn5mmf4GsaF325Y8u&authuser=0&export=download\" -O config.yaml\n",
        "!cat config.yaml"
      ],
      "execution_count": null,
      "outputs": [
        {
          "output_type": "stream",
          "text": [
            "--2021-04-19 18:56:10--  http://gaia.infor.uva.es/hdt/swdf-2012-11-28.hdt.gz\n",
            "Resolving gaia.infor.uva.es (gaia.infor.uva.es)... 157.88.123.104\n",
            "Connecting to gaia.infor.uva.es (gaia.infor.uva.es)|157.88.123.104|:80... connected.\n",
            "HTTP request sent, awaiting response... 200 OK\n",
            "Length: 2403825 (2.3M) [application/x-gzip]\n",
            "Saving to: ‘swdf-2012-11-28.hdt.gz’\n",
            "\n",
            "swdf-2012-11-28.hdt 100%[===================>]   2.29M  1.92MB/s    in 1.2s    \n",
            "\n",
            "2021-04-19 18:56:12 (1.92 MB/s) - ‘swdf-2012-11-28.hdt.gz’ saved [2403825/2403825]\n",
            "\n",
            "name: SaGe Test server\n",
            "maintainer: Chuck Norris\n",
            "quota: 75\n",
            "max_results: 2000\n",
            "default_graph_uri: http://localhost:8000/sparql/part\n",
            "graphs:\n",
            "-\n",
            "  name: swdf\n",
            "  uri: http://example.org/swdf\n",
            "  description: DBPedia\n",
            "  backend: hdt-file\n",
            "  file: swdf-2012-11-28.hdt\n",
            " \n"
          ],
          "name": "stdout"
        }
      ]
    },
    {
      "cell_type": "markdown",
      "metadata": {
        "id": "521LLJh0UhiK"
      },
      "source": [
        "## Starting the server\n",
        "\n",
        "The SaGe server is started with 2 workers, a quantum of 75ms and maxpage size of 2000 results"
      ]
    },
    {
      "cell_type": "code",
      "metadata": {
        "colab": {
          "base_uri": "https://localhost:8080/"
        },
        "id": "D6GG0STh-eqS",
        "outputId": "709181a5-f248-4bf2-e6b4-eae5b60b158a"
      },
      "source": [
        "%%bash --bg --out script_out\n",
        "sage config.yaml -p 8000 -w 2 -h \"0.0.0.0\" > server_out"
      ],
      "execution_count": null,
      "outputs": [
        {
          "output_type": "stream",
          "text": [
            "Starting job # 0 in a separate thread.\n"
          ],
          "name": "stdout"
        }
      ]
    },
    {
      "cell_type": "code",
      "metadata": {
        "id": "Maj46K9Knurr"
      },
      "source": [
        "## print server output\n",
        "!tail server_out"
      ],
      "execution_count": null,
      "outputs": []
    },
    {
      "cell_type": "markdown",
      "metadata": {
        "id": "rnu7coTdmoYt"
      },
      "source": [
        "Test if the SaGe Server is running. You should see \"\"The SaGe SPARQL query server is running!\"\n",
        "\n",
        "---\n",
        "\n"
      ]
    },
    {
      "cell_type": "code",
      "metadata": {
        "colab": {
          "base_uri": "https://localhost:8080/"
        },
        "id": "aUKX2cCo_P91",
        "outputId": "dcf23a51-7366-41a3-b5fb-c39af6c7c2e9"
      },
      "source": [
        "## just testing the server is running...\n",
        "!curl http://0.0.0.0:8000"
      ],
      "execution_count": null,
      "outputs": [
        {
          "output_type": "stream",
          "text": [
            "\"The SaGe SPARQL query server is running!\""
          ],
          "name": "stdout"
        }
      ]
    },
    {
      "cell_type": "markdown",
      "metadata": {
        "id": "JgC4kRQRUpeV"
      },
      "source": [
        "## Running queries\n",
        "\n",
        "As a web server, SaGe can be queryied in any language. \n",
        "Below, we show how to do that in Python (as we are in Jupyter Notebook). We also provide a JS client and JENA client.\n",
        "\n",
        "Just Call the SaGe server for only one quantum. The server interupt the query after a quantum exhausted or the max results reached."
      ]
    },
    {
      "cell_type": "code",
      "metadata": {
        "id": "vErANUp6F6Jh",
        "colab": {
          "base_uri": "https://localhost:8080/"
        },
        "outputId": "c6ae60eb-ee60-4c0f-b9cb-116bb32852ae"
      },
      "source": [
        "import requests\n",
        "from json import dumps     \n",
        "\n",
        "###\n",
        "query='select * where {?s ?p ?o}'\n",
        "####\n",
        "\n",
        "entrypoint='http://0.0.0.0:8000/sparql'\n",
        "default_graph_uri='http://example.org/swdf'\n",
        "headers = {\"accept\": \"text/html\",\n",
        "        \"content-type\": \"application/json\",\n",
        "        \"next\": None}\n",
        "payload = {\"query\": query,\n",
        "        \"defaultGraph\": default_graph_uri}\n",
        "has_next = True                                                                                                                                         \n",
        "count = 0                                                                                                                                               \n",
        "nbResults = 0                                                                                                                                           \n",
        "nbCalls = 0  \n",
        "limit = 10\n",
        "\n",
        "## call the server\n",
        "response = requests.post(entrypoint, headers=headers, data=dumps(payload))\n",
        "\n",
        "## the results\n",
        "json_response = response.json() \n",
        "nbResults += len(json_response['bindings'])\n",
        "print(f'got:{nbResults}')\n",
        "\n",
        "## print some results\n",
        "for bindings in json_response['bindings']:\n",
        "    print(str(bindings))\n",
        "    count += 1\n",
        "    if count >= limit:\n",
        "      break\n",
        "\n",
        "## the link to continue the execution\n",
        "has_next = json_response['next']                                                                                                                    \n",
        "payload[\"next\"] = json_response[\"next\"]\n",
        "nbCalls += 1\n",
        "\n",
        "print(f'and the next link is {json_response[\"next\"]}')"
      ],
      "execution_count": null,
      "outputs": [
        {
          "output_type": "stream",
          "text": [
            "got:2000\n",
            "{'?s': '_:b1', '?p': 'http://www.w3.org/1999/02/22-rdf-syntax-ns#_1', '?o': 'http://data.semanticweb.org/person/barry-norton'}\n",
            "{'?s': '_:b1', '?p': 'http://www.w3.org/1999/02/22-rdf-syntax-ns#_2', '?o': 'http://data.semanticweb.org/person/reto-krummenacher'}\n",
            "{'?s': '_:b1', '?p': 'http://www.w3.org/1999/02/22-rdf-syntax-ns#type', '?o': 'http://www.w3.org/1999/02/22-rdf-syntax-ns#Seq'}\n",
            "{'?s': '_:b10', '?p': 'http://www.w3.org/1999/02/22-rdf-syntax-ns#_1', '?o': 'http://data.semanticweb.org/person/robert-isele'}\n",
            "{'?s': '_:b10', '?p': 'http://www.w3.org/1999/02/22-rdf-syntax-ns#_2', '?o': 'http://data.semanticweb.org/person/anja-jentzsch'}\n",
            "{'?s': '_:b10', '?p': 'http://www.w3.org/1999/02/22-rdf-syntax-ns#_3', '?o': 'http://data.semanticweb.org/person/christian-bizer'}\n",
            "{'?s': '_:b10', '?p': 'http://www.w3.org/1999/02/22-rdf-syntax-ns#type', '?o': 'http://www.w3.org/1999/02/22-rdf-syntax-ns#Seq'}\n",
            "{'?s': '_:b11', '?p': 'http://www.w3.org/1999/02/22-rdf-syntax-ns#_1', '?o': 'http://data.semanticweb.org/person/raphael-troncy'}\n",
            "{'?s': '_:b11', '?p': 'http://www.w3.org/1999/02/22-rdf-syntax-ns#_2', '?o': 'http://data.semanticweb.org/person/andre-fialho'}\n",
            "{'?s': '_:b11', '?p': 'http://www.w3.org/1999/02/22-rdf-syntax-ns#_3', '?o': 'http://data.semanticweb.org/person/lynda-hardman'}\n",
            "and the next link is EksSSQolCgI/cxICP3AaAj9vIhdodHRwOi8vZXhhbXBsZS5vcmcvc3dkZiIEMjAwMCoaMjAyMS0wNC0xOVQxODo1Njo1Ny41MTk3MzY=\n"
          ],
          "name": "stdout"
        }
      ]
    },
    {
      "cell_type": "markdown",
      "metadata": {
        "id": "0ivwJg3_A4KS"
      },
      "source": [
        "We can decode the value of the next link\n",
        "As you can see. The next link contain the state of the suspended query"
      ]
    },
    {
      "cell_type": "code",
      "metadata": {
        "colab": {
          "base_uri": "https://localhost:8080/"
        },
        "id": "9RlWApj_-r03",
        "outputId": "aad4ab49-b274-43a7-dc76-5962a628b5ea"
      },
      "source": [
        "from sage.http_server.utils import decode_saved_plan, encode_saved_plan\n",
        "from sage.query_engine.protobuf.iterators_pb2 import (RootTree,SavedProjectionIterator,SavedScanIterator)\n",
        "next_link=json_response[\"next\"]\n",
        "print(f'the next link {next_link} contains')\n",
        "if next_link is not None:\n",
        "  saved_plan = next_link\n",
        "  plan = decode_saved_plan(saved_plan)\n",
        "  root = RootTree()\n",
        "  root.ParseFromString(plan)\n",
        "  print(root)"
      ],
      "execution_count": null,
      "outputs": [
        {
          "output_type": "stream",
          "text": [
            "the next link EksSSQolCgI/cxICP3AaAj9vIhdodHRwOi8vZXhhbXBsZS5vcmcvc3dkZiIEMjAwMCoaMjAyMS0wNC0xOVQxODo1Njo1Ny41MTk3MzY= contains\n",
            "proj_source {\n",
            "  scan_source {\n",
            "    pattern {\n",
            "      subject: \"?s\"\n",
            "      predicate: \"?p\"\n",
            "      object: \"?o\"\n",
            "      graph: \"http://example.org/swdf\"\n",
            "    }\n",
            "    last_read: \"2000\"\n",
            "    timestamp: \"2021-04-19T18:56:57.519736\"\n",
            "  }\n",
            "}\n",
            "\n"
          ],
          "name": "stdout"
        }
      ]
    },
    {
      "cell_type": "markdown",
      "metadata": {
        "id": "XVHIHznefAO5"
      },
      "source": [
        "If you have understood. Sending the next link back to server allow to restart the query from where it has been stopped. Basically, it works as next/next/next until no more results are available..."
      ]
    },
    {
      "cell_type": "code",
      "metadata": {
        "colab": {
          "base_uri": "https://localhost:8080/"
        },
        "id": "NGjSXh5he5kx",
        "outputId": "472009f9-6e25-4c3f-e0ee-edb317101d97"
      },
      "source": [
        "if has_next :\n",
        "  response = requests.post(entrypoint, headers=headers, data=dumps(payload))\n",
        "  json_response = response.json()                                                                                                                     \n",
        "  has_next = json_response['next']                                                                                                                    \n",
        "  payload[\"next\"] = json_response[\"next\"]\n",
        "  nbResults += len(json_response['bindings'])\n",
        "  nbCalls += 1\n",
        "  count=0\n",
        "  for bindings in json_response['bindings']:\n",
        "    print(str(bindings))\n",
        "    count += 1\n",
        "    if count >= limit:\n",
        "      break\n"
      ],
      "execution_count": null,
      "outputs": [
        {
          "output_type": "stream",
          "text": [
            "{'?s': '_:genid164', '?p': 'http://www.w3.org/2002/12/cal/ical#tzid', '?o': '\"GMT+1\"'}\n",
            "{'?s': '_:genid164', '?p': 'http://www.w3.org/2002/12/cal/ical#tzid', '?o': '\"GMT+8\"'}\n",
            "{'?s': '_:genid164', '?p': 'http://www.w3.org/2003/01/geo/wgs84_pos#lat', '?o': '\"48.957911\"'}\n",
            "{'?s': '_:genid164', '?p': 'http://www.w3.org/2003/01/geo/wgs84_pos#long', '?o': '\"2.339648\"'}\n",
            "{'?s': '_:genid165', '?p': 'http://data.semanticweb.org/ns/swc/ontology#isRoleAt', '?o': 'http://data.semanticweb.org/conference/eswc/2007'}\n",
            "{'?s': '_:genid165', '?p': 'http://www.w3.org/1999/02/22-rdf-syntax-ns#_1', '?o': 'http://data.semanticweb.org/person/danushka-bollegala'}\n",
            "{'?s': '_:genid165', '?p': 'http://www.w3.org/1999/02/22-rdf-syntax-ns#_2', '?o': 'http://data.semanticweb.org/person/yutaka-matsuo'}\n",
            "{'?s': '_:genid165', '?p': 'http://www.w3.org/1999/02/22-rdf-syntax-ns#_3', '?o': 'http://data.semanticweb.org/person/mitsuru-ishizuka'}\n",
            "{'?s': '_:genid165', '?p': 'http://www.w3.org/1999/02/22-rdf-syntax-ns#type', '?o': 'http://data.semanticweb.org/ns/swc/ontology#ProgrammeCommitteeMember'}\n",
            "{'?s': '_:genid165', '?p': 'http://www.w3.org/1999/02/22-rdf-syntax-ns#type', '?o': 'http://www.w3.org/2003/01/geo/wgs84_pos#Point'}\n"
          ],
          "name": "stdout"
        }
      ]
    },
    {
      "cell_type": "markdown",
      "metadata": {
        "id": "6K9mLhkhBI6_"
      },
      "source": [
        "If we decode the next link again, we can see"
      ]
    },
    {
      "cell_type": "code",
      "metadata": {
        "id": "dYxtATPKBMlY",
        "colab": {
          "base_uri": "https://localhost:8080/"
        },
        "outputId": "0ed5a5a3-b180-45da-ab10-9e835aca9609"
      },
      "source": [
        "from sage.http_server.utils import decode_saved_plan, encode_saved_plan\n",
        "from sage.query_engine.protobuf.iterators_pb2 import (RootTree,SavedProjectionIterator,SavedScanIterator)\n",
        "next_link=json_response[\"next\"]\n",
        "print(f'the next link {next_link} contains')\n",
        "if next_link is not None:\n",
        "  saved_plan = next_link\n",
        "  plan = decode_saved_plan(saved_plan)\n",
        "  root = RootTree()\n",
        "  root.ParseFromString(plan)\n",
        "  print(root)"
      ],
      "execution_count": null,
      "outputs": [
        {
          "output_type": "stream",
          "text": [
            "the next link EksSSQolCgI/cxICP3AaAj9vIhdodHRwOi8vZXhhbXBsZS5vcmcvc3dkZiIENDAwMCoaMjAyMS0wNC0xOVQxODo1Njo1Ny41MTk3MzY= contains\n",
            "proj_source {\n",
            "  scan_source {\n",
            "    pattern {\n",
            "      subject: \"?s\"\n",
            "      predicate: \"?p\"\n",
            "      object: \"?o\"\n",
            "      graph: \"http://example.org/swdf\"\n",
            "    }\n",
            "    last_read: \"4000\"\n",
            "    timestamp: \"2021-04-19T18:56:57.519736\"\n",
            "  }\n",
            "}\n",
            "\n"
          ],
          "name": "stdout"
        }
      ]
    },
    {
      "cell_type": "markdown",
      "metadata": {
        "id": "XQQPtqJ33nAG"
      },
      "source": [
        "Well, now we iterate until the end"
      ]
    },
    {
      "cell_type": "code",
      "metadata": {
        "id": "8NwnAC5e3rP_",
        "colab": {
          "base_uri": "https://localhost:8080/"
        },
        "outputId": "70cce738-67ee-42a9-c663-073f7ddcbeea"
      },
      "source": [
        "while has_next :\n",
        "  response = requests.post(entrypoint, headers=headers, data=dumps(payload))\n",
        "  json_response = response.json()                                                                                                                     \n",
        "  has_next = json_response['next']                                                                                                                    \n",
        "  payload[\"next\"] = json_response[\"next\"]\n",
        "  nbResults += len(json_response['bindings'])\n",
        "  nbCalls += 1\n",
        "\n",
        "## print some bindings...\n",
        "count=0\n",
        "for bindings in json_response['bindings']:\n",
        "  print(str(bindings))\n",
        "  count += 1\n",
        "  if count >= limit:\n",
        "    break\n",
        "\n",
        "print(f'got {nbResults} results')\n",
        "print(f'made {nbCalls} calls')"
      ],
      "execution_count": null,
      "outputs": [
        {
          "output_type": "stream",
          "text": [
            "{'?s': 'http://data.semanticweb.org/person/bernhard-thalheim', '?p': 'http://xmlns.com/foaf/0.1/homepage', '?o': 'http://www.is.informatik.uni-kiel.de/~thalheim'}\n",
            "{'?s': 'http://data.semanticweb.org/person/bernhard-thalheim', '?p': 'http://xmlns.com/foaf/0.1/name', '?o': '\"Bernhard Thalheim\"'}\n",
            "{'?s': 'http://data.semanticweb.org/person/bill-mcdaniel', '?p': 'http://data.semanticweb.org/ns/swc/ontology#affiliation', '?o': '\"Digital Enterprise Research Institute, National University of Ireland, Galway\"'}\n",
            "{'?s': 'http://data.semanticweb.org/person/bill-mcdaniel', '?p': 'http://data.semanticweb.org/ns/swc/ontology#holdsRole', '?o': '_:genid234'}\n",
            "{'?s': 'http://data.semanticweb.org/person/bill-mcdaniel', '?p': 'http://www.w3.org/1999/02/22-rdf-syntax-ns#type', '?o': 'http://xmlns.com/foaf/0.1/Person'}\n",
            "{'?s': 'http://data.semanticweb.org/person/bill-mcdaniel', '?p': 'http://www.w3.org/2000/01/rdf-schema#label', '?o': '\"Bill McDaniel\"'}\n",
            "{'?s': 'http://data.semanticweb.org/person/bill-mcdaniel', '?p': 'http://xmlns.com/foaf/0.1/family_name', '?o': '\"McDaniel\"'}\n",
            "{'?s': 'http://data.semanticweb.org/person/bill-mcdaniel', '?p': 'http://xmlns.com/foaf/0.1/firstName', '?o': '\"Bill\"'}\n",
            "{'?s': 'http://data.semanticweb.org/person/bill-mcdaniel', '?p': 'http://xmlns.com/foaf/0.1/mbox_sha1sum', '?o': '\"1513f6881fc4705fe0de433a57879f66d4ca2e81\"'}\n",
            "{'?s': 'http://data.semanticweb.org/person/bill-mcdaniel', '?p': 'http://xmlns.com/foaf/0.1/name', '?o': '\"Bill McDaniel\"'}\n",
            "got 242256 results\n",
            "made 122 calls\n"
          ],
          "name": "stdout"
        }
      ]
    }
  ]
}